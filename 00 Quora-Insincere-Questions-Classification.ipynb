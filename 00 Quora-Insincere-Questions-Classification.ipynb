{
 "cells": [
  {
   "cell_type": "markdown",
   "metadata": {},
   "source": [
    "# Quora-Insincere-Questions-Classification\n",
    "\n",
    "- https://www.kaggle.com/c/quora-insincere-questions-classification"
   ]
  },
  {
   "cell_type": "markdown",
   "metadata": {},
   "source": [
    "## Overview"
   ]
  },
  {
   "cell_type": "markdown",
   "metadata": {},
   "source": [
    "* description\n",
    "\n",
    "    오늘날 여러 웹사이트의 주요 문제는 유독하고 분열적인 콘텐츠를 어떻게 다룰지에 있다. Quora는 사용자가 지식을 안전하게 공유하게하기 위해 이 문제를 본격적으로 다루기를 원한다. Quora는 사람들이 서로가 서로에게 도움을 주는 플랫폼이다. Quora에서 사람들은 질문을 하고 대답을 한다. 여기서 주요 문제는 진실성이 없는 질문들을 제거하는 것이다. 진실성이 없는 질문이란 잘못된 전제에 기초해 있거나 도움이 되는 답변을 찾기보단 단순히 의도를 갖고 질문을 하는 경우를 말한다. 이번 대회에서 Kagglers는 진실성이 없는 질문을 찾아내는 모델을 개발해야 한다. 지금까지 Quora는 이 문제를 해결하기 위해 기계학습 및 수동 탐지를 사용해 왔다. 당신의 도움이 있으면, Quora는 좀 더 확장가능한 좋은 모델을 발전시킬 수 있다. 여기가 온라인 상의 트롤가 맞설 수 있는 기회이다. Quora가 \"Be Nice, Be Respectful\"라는 정책을 지키고 계속해서 지식을 공유하고 성장시킬 수 있는 장소가 되도록 도와주십시오.\n",
    "    \n",
    "* evaluation\n",
    "    \n",
    "    $F1$ score"
   ]
  },
  {
   "cell_type": "markdown",
   "metadata": {},
   "source": [
    "## Data"
   ]
  },
  {
   "cell_type": "markdown",
   "metadata": {},
   "source": [
    "An insincere question is defined as a question intended to make a statement rather than look for helpful answers. \n",
    "\n",
    "Some characteristics that can signify that a question is insincere:\n",
    "\n",
    "* Has a non-neutral tone\n",
    "    * Has an exaggerated tone to underscore a point about a group of people\n",
    "    * Is rhetorical and meant to imply a statement about a group of people\n",
    "\n",
    "* Is disparaging or inflammatory\n",
    "    * Suggests a discriminatory idea against a protected class of people, or seeks confirmation of a stereotype\n",
    "    * Makes disparaging attacks/insults against a specific person or group of people\n",
    "    * Based on an outlandish premise about a group of people\n",
    "    * Disparages against a characteristic that is not fixable and not measurable\n",
    "\n",
    "* Isn't grounded in reality\n",
    "    * Based on false information, or contains absurd assumptions\n",
    "\n",
    "* Uses sexual content (incest, bestiality, pedophilia) for shock value, and not to seek genuine answers"
   ]
  }
 ],
 "metadata": {
  "kernelspec": {
   "display_name": "Python 3",
   "language": "python",
   "name": "python3"
  },
  "language_info": {
   "codemirror_mode": {
    "name": "ipython",
    "version": 3
   },
   "file_extension": ".py",
   "mimetype": "text/x-python",
   "name": "python",
   "nbconvert_exporter": "python",
   "pygments_lexer": "ipython3",
   "version": "3.6.7"
  }
 },
 "nbformat": 4,
 "nbformat_minor": 2
}
